{
 "cells": [
  {
   "cell_type": "markdown",
   "metadata": {},
   "source": [
    "# スペクトル解析 1週目\n",
    "\n",
    "**注意** :\n",
    "本実験では binder というサービスを使って web ブラウザ上で Python プログラムを実行できる環境を構築しています。\n",
    "binder はアクセスしないと 10 分、プログラム自体は 12 時間で終了してしまうので、\n",
    "時間を置いて作業する場合には、課題の計算結果や考察のテキストは別途テキストエディタなどで保存しておいて、 binder を再立ち上げした後に反映させてください。\n",
    "\n",
    "## 課題の進め方\n",
    "\n",
    "本実験では、離散データを用いたフーリエ級数の合成やパワースペクトルの計算などをプログラミング言語 \"Python\" で行います。ここではプログラムはセルと呼ぶ要素に分割されており、このセル毎に必要なら変数を代入し実行していく形で課題を進めます。下流のセルでは上流のセルで代入した変数や定義文を用いるので上から順にセルを実行していってください。\n",
    "\n",
    "セルのプログラムを実行するテストをしてみましょう。\n",
    "次のセル(# テストセル)をアクティブにし(セルをクリックすると枠に色がつき、実行前は緑色、実行後は水色線が入る)、変数 `a =` の 右辺に数値を代入し、実行してください (ツールバーの [▶︎ Run] を押す)。セルの下にいくつかの四則演算の計算結果が出力されます。\n"
   ]
  },
  {
   "cell_type": "code",
   "execution_count": null,
   "metadata": {},
   "outputs": [],
   "source": [
    "# テストセル\n",
    "'''\n",
    "例\n",
    "a = 10\n",
    "'''\n",
    "\n",
    "a = \n",
    "b = 2.\n",
    "c = 5\n",
    "\n",
    "d = a+b-c\n",
    "e = a*c/2\n",
    "\n",
    "print(\"a+b-c =\",d)\n",
    "print(\"a*c/b =\",e)"
   ]
  },
  {
   "cell_type": "markdown",
   "metadata": {},
   "source": [
    "以降のセルでは、代入する必要のある変数は\n",
    "\n",
    "`###############################################################`\n",
    "\n",
    "`###############################################################`\n",
    "\n",
    "で囲まれています。それ以外の箇所のコードは変更しないようにしてください。\n",
    "コードを変更したなどうまく実行できない状態になった場合は binder を立ち上げ直して始めてください。\n",
    "また、実験の原理に関する説明をここでは最小限でしかおこなっていないので、詳細は Course Power 上にあるスペクトル解析テキスト(以下テキストと呼ぶ)を参照してください。\n"
   ]
  },
  {
   "cell_type": "markdown",
   "metadata": {},
   "source": [
    "## 1.1 学生番号, 学生名の入力\n",
    "\n",
    "次のセルの変数 `id_st` に学生番号を、`name_st` に学生名を代入し、セルを実行してください。正しく実行できれば学生番号と学生名が出力されます。"
   ]
  },
  {
   "cell_type": "code",
   "execution_count": null,
   "metadata": {},
   "outputs": [],
   "source": [
    "'''\n",
    "学生番号(id_st)、学生名(name_st)を入力\n",
    "'''\n",
    "###############################################################\n",
    "id_st = \n",
    "name_st = \"\" # 文字列は \"\" で囲む\n",
    "###############################################################\n",
    "\n",
    "print(\"学生番号:\", id_st)\n",
    "print(\"学生名:\", name_st)\n"
   ]
  },
  {
   "cell_type": "markdown",
   "metadata": {},
   "source": [
    "## 1.2 コンピュータによる離散フーリエ変換\n",
    "詳細はテキスト 7.2 節を参照\n",
    "\n",
    "フーリエ変換をコンピュータで計算する場合、無限大の区間を無限小幅で積分するような連続的な値を扱うことは不可能で、離散的な値を扱う必要があります。関数 $X(t)$ のデータを取得する場合を考えるとき、**時間間隔** $\\Delta t$ ごと時刻 $t_{0},t_{1},...t_{N-1}$ の時の $X(t)$ の値が $X(t_{0}),X(t_{1})...X(t_{N-1})$ とすると、離散データのフーリエ変換は\n",
    "\\begin{equation}\n",
    "    S(\\omega_{k}) = \\frac{T}{N}\\sum_{n=0}^{N-1}X(t_{n})\\exp(-i\\omega_{k}t_{k})\n",
    "\\end{equation}\n",
    "のように計算できます。データが $N$個の場合、データ全体の時間 $T$は $T=N\\Delta t$ となります。\n",
    "\n",
    "このように本来連続的な現象から離散的なデータを取り出すことを「サンプリング」と呼びます。サンプリングの間隔 $\\Delta t$ を細かくしていけば元の現象に忠実なデータが得られますが、有限のサイズであるコンピュータでは記録容量が大きくなり計算処理能力も必要になっていきます。\n",
    "\n",
    "ここで\n",
    "\\begin{equation}\n",
    "    f_{s} = 1/\\Delta t\n",
    "\\end{equation}\n",
    "\n",
    "を**サンプリング周波数**と呼びます。$\\Delta t$ がこのデータの最も短い時間間隔なのでそれより短い時間変動、 \n",
    "周波数で言えば $f_{s}$ より大きい周波数の変動はこのデータでは原理的に捉えることができません。\n",
    "このようなデータで再現できる限界の周波数を**ナイキスト周波数** $f_{n}$ と呼び、周期を推定できる最小の単位がデータ2点とすると、ナイキスト周波数はサンプリング周波数に対して \n",
    "\n",
    "\\begin{equation}\n",
    "    f_{n} = f_{s}/2\n",
    "\\end{equation}\n",
    "\n",
    "となります。データにこれより大きい周波数の信号が含まれているとパワースペクトルに偽のピークが現れる**エリアシング**という現象が起きてしまう可能性が出てきます。\n",
    "\n",
    "次のセルではプログラムの初期設定と、$f_{s} = 2048$ [Hz] とした場合の各種変数の設定を行います。\n",
    "セルを実行するとサンプリングに関するパラメータの数値が出力されます。"
   ]
  },
  {
   "cell_type": "code",
   "execution_count": null,
   "metadata": {},
   "outputs": [],
   "source": [
    "'''\n",
    "パラメータの初期設定\n",
    "'''\n",
    "import numpy as np\n",
    "from pylab import *\n",
    "import matplotlib.gridspec as gridspec\n",
    "%matplotlib inline\n",
    "\n",
    "fs = 2048\n",
    "fn = fs/2\n",
    "dt = 1./fs\n",
    "\n",
    "dpi = 100\n",
    "\n",
    "print(\"サンプリング周波数 fs:\", fs)\n",
    "print(\"ナイキスト周波数 fn:\", fn)\n",
    "print(\"時間間隔 dt:\", dt)\n"
   ]
  },
  {
   "cell_type": "markdown",
   "metadata": {},
   "source": [
    "## 1.3 方形波(矩形波)の出力 \n",
    "詳細はテキスト 7.3 節を参照\n",
    "\n",
    "方形波(矩形波)のサンプリングしたデータに対してフーリエ変換を行います。\n",
    "\n",
    "周期 $1/f_{0}$ の周期関数として、方形波は\n",
    "\n",
    "\\begin{eqnarray}\n",
    "f(t) = \n",
    "\\left\\{\n",
    "\\begin{array}{l}\n",
    "    -1 & (-f_{0}/2 \\le t \\le 0) \\\\\n",
    "    1 & (0\\le t \\le f_{0}/2) \n",
    "\\end{array}\n",
    "\\right.\n",
    "\\end{eqnarray}\n",
    "\n",
    "と表されます。\n",
    "\n",
    "以下のプログラムを実行すると、学生番号に応じた方形波の基本周波数を決定し、周期 $1/f_{0}$ の方形波がプロットされます。"
   ]
  },
  {
   "cell_type": "code",
   "execution_count": null,
   "metadata": {
    "scrolled": false
   },
   "outputs": [],
   "source": [
    "'''\n",
    "方形波を出力する\n",
    "'''\n",
    "\n",
    "np.random.seed(seed=id_st)\n",
    "f0 = float(np.random.randint(8,16))\n",
    "# f0 = 16.\n",
    "# k_max = 32\n",
    "p0 = f0**-1\n",
    "t = np.arange(0,3.*p0,dt)\n",
    "nt = len(t)\n",
    "print(\"方形波の基本周波数 f0:\",f0)\n",
    "print(\"データ点数 nt:\", nt)\n",
    "\n",
    "y_rect = np.array([1 if (int(i*f0*2) % 2) == 0 else -1 for i in t])\n",
    "\n",
    "figure(0,figsize=(8,3),dpi=dpi)\n",
    "plot(t,y_rect)\n",
    "title('square pulse, $f_{0}=$'+str(f0)+' Hz')\n",
    "xlabel(\"sec\")"
   ]
  },
  {
   "cell_type": "markdown",
   "metadata": {},
   "source": [
    "## 1.4 方形波のフーリエ級数を推定する\n",
    "\n",
    "方形波をフーリエ変換すると、そのフーリエ級数は\n",
    "\n",
    "\\begin{equation}\n",
    "    X(t) = \\sum_{k=1}^{k_{\\rm max}}a(k)\\sin{(b(k)\\omega_{0}t+\\phi_{k})}\n",
    "\\end{equation}\n",
    "\n",
    "という形になり(参考文献 4. など参考に)、方形波は $k_{\\rm max}$個の sin 関数を合成することで再現できるということがわかります。\n",
    "ここで基本角周波数 $\\omega_{0}=2 \\pi f_{0}$ です。\n",
    "\n",
    "---\n",
    "### [課題1]\n",
    "\n",
    "**フーリエ展開の一般式を用いて方形波のフーリエ級数を導出し、$a(k)$, $b(k)$を推定せよ。**\n",
    "\n",
    "$a(k)$, $b(k)$ はそれぞれ簡単な形の $k$ の関数になり、$\\phi_{k}$は常に 0 になります。このセルをダブルクリックして編集可能な状態にし、\n",
    "以下に $a(k)$ = 2*k/2 (これは例えばの式)のような形で四則演算記号を用いて記述してください。\n",
    "- $a(k)$ =\n",
    "- $b(k)$ =\n",
    "\n",
    "---"
   ]
  },
  {
   "cell_type": "markdown",
   "metadata": {},
   "source": [
    "## 1.5 振幅($a(k)$)、角周波数成分($b(k)$)の計算\n",
    "\n",
    "ナイキスト周波数を超えない周波数の範囲で $k_{\\rm max}$ 個の sin 波を合成します。\n",
    "\n",
    "---\n",
    "### [課題2]\n",
    "\n",
    "合成する sin 波の個々の周波数は $b(k)f_{0}$ で表され、方形波の基本周波数 $f_{0}$ は 1.3節のセルで与えられています。\n",
    "今回のデータのサンプリング周波数 $f_{s} = 2048$ [Hz] からナイキスト周波数 $f_{n}$ を求め、課題 1 の$b(k)$の推定と合わせてナイキスト周波数を超えない最大の $b(k)f_{0}$ となる $k_{\\rm max}$を求めて次のセル `k_max` に代入し実行してください。\n",
    "\n",
    "---\n"
   ]
  },
  {
   "cell_type": "code",
   "execution_count": null,
   "metadata": {},
   "outputs": [],
   "source": [
    "'''\n",
    "k_max の代入\n",
    "'''\n",
    "###############################################################\n",
    "k_max = \n",
    "###############################################################\n",
    "\n",
    "print(\"k_max:\",k_max)"
   ]
  },
  {
   "cell_type": "markdown",
   "metadata": {},
   "source": [
    "---\n",
    "### [課題3]\n",
    "\n",
    "**課題1で導出した方形波のフーリエ級数の振幅 $a(k)$, $b(k)$ の値を $k=1,...,k_{\\rm max}$ のそれぞれで計算する。**\n",
    "\n",
    "その結果を要素 $k_{\\rm max}$ 個のリストとして、次のセルの $a(k)$は`col_an =` に、$b(k)$ は `col_bn =` に代入してください。\n",
    "\n",
    "リストは書き方は数値をカンマで区切り、[]で囲みます。\n",
    "例えば $a(1),a(2),a(3)$ の値が 1.0,2.0,3.0 の場合、リストは `col_an = [1.0,2.0,3.0]`と書きます(この値は正しくないです)。実際は $k_{\\rm max}$ 個の要素が入ったリストとなります。\n",
    "実行するとそれぞれリストが出力されるので入力が正しいか確認してくだい。\n",
    "\n",
    "---\n",
    "\n"
   ]
  },
  {
   "cell_type": "code",
   "execution_count": null,
   "metadata": {},
   "outputs": [],
   "source": [
    "'''\n",
    "a(k), b(k) のリストを代入する\n",
    "'''\n",
    "###############################################################\n",
    "col_an = \n",
    "col_bn = \n",
    "###############################################################\n",
    "col_an = np.array(col_an)\n",
    "col_bn = np.array(col_bn)\n",
    "col_w = np.array([ 0. for i in range(k_max)])\n",
    "\n",
    "\n",
    "\n",
    "nk = len(col_an)\n",
    "\n",
    "print(\"合成波の個数 nk:\",nk)\n",
    "print(\"col_an:\", col_an)\n",
    "print(\"col_bn:\", col_bn)\n"
   ]
  },
  {
   "cell_type": "markdown",
   "metadata": {},
   "source": [
    "## 1.6 sin 波の合成\n",
    "\n",
    "代入した `col_an`, `col_bn` の値を用いて sin 波の合成を行います。\n",
    "\n",
    "次のセルを実行すると sin 波の合成が行われ 2 枚の図が出力されます。\n",
    "1 枚目は下段が $k_{\\rm max}$ 個の sin 波を別々にプロットしていて、\n",
    "上段がその sin 波を合成した結果が図示されます。\n",
    "上段が方形波を再現していればフーリエ級数の重ね合わせによる波形の再現がうまくいったことになります。\n",
    "方形波になっていない場合には $a(k)$, $b(k)$ が正しくないためであるので推定と計算を見直してください。\n",
    "\n",
    "2 枚目の図は合成波のパワースペクトルで、$k_{\\rm max}$個の sin 波のパワー(振幅の二乗)が図示されています。\n"
   ]
  },
  {
   "cell_type": "code",
   "execution_count": null,
   "metadata": {},
   "outputs": [],
   "source": [
    "xk = []\n",
    "x = np.zeros([nt])\n",
    "\n",
    "for i in range(nk):\n",
    "    ak = col_an[i]\n",
    "    f = col_bn[i]*f0\n",
    "    omega = f*2*np.pi\n",
    "    power = ak**2\n",
    "    xk.append(4/np.pi*ak*np.sin(np.array(t)*(omega)+col_w[i]))\n",
    "    x = x + 4/np.pi*ak*np.sin(np.array(t)*(omega)+col_w[i])\n",
    "\n",
    "\n",
    "figure(0,figsize=(8,6),dpi=dpi)\n",
    "gs = gridspec.GridSpec(4, 4)\n",
    "gs.update(hspace=0.1)\n",
    "ax_lc = subplot(gs[0:2, 0:4])\n",
    "title('square pulse, k='+str(nk)+r', $f_{0}=$'+str(f0)+'Hz')\n",
    "ax_sin = subplot(gs[2:4, 0:4], sharex=ax_lc)\n",
    "ax_lc.plot(t,x)\n",
    "setp(ax_lc.get_xticklabels(), visible=False)\n",
    "for i in range(nk):\n",
    "    ax_sin.plot(t,xk[i])\n",
    "xlabel(\"sec\")\n",
    "\n",
    "\n",
    "figure(1,figsize=(8,6),dpi=dpi)\n",
    "bar(col_bn*f0, col_an**2,width=col_bn/4.,align=\"center\",log=True)\n",
    "title('power spectrum, k='+str(nk)+r', $f_{0}=$'+str(f0)+'Hz')\n",
    "xscale(\"log\")\n",
    "# yscale(\"log\")\n",
    "xlabel(\"Hz\")\n",
    "ylabel(\"Power\")\n"
   ]
  },
  {
   "cell_type": "markdown",
   "metadata": {},
   "source": [
    "## 1.7 考察\n",
    "\n",
    "以上の実験を通して調べたことや考察したことを 2 項目程度、\n",
    "このセルをダブルクリックして考察記述欄に記述してください。\n",
    "\n",
    "考察例は以下のようです。\n",
    "- エリアシングとは\n",
    "- k_max を意図的に小さくした時合成波はどうなるか\n",
    "- 方形波のパワースペクトルの式\n",
    "- その他気がついたこと\n",
    "\n",
    "---\n",
    "**考察記述欄**\n",
    "\n",
    "\n",
    "\n",
    "\n",
    "\n",
    "---"
   ]
  },
  {
   "cell_type": "markdown",
   "metadata": {},
   "source": [
    "## A 計算用セル\n",
    "\n",
    "以下のセルは計算やテストのプログラムの実行などを Python で行いたいときに自由に使ってください。\n",
    "最下流なので実行しても実験のプログラムには影響が出ません。"
   ]
  },
  {
   "cell_type": "code",
   "execution_count": null,
   "metadata": {},
   "outputs": [],
   "source": [
    "'''\n",
    "計算用セル\n",
    "'''"
   ]
  }
 ],
 "metadata": {
  "kernelspec": {
   "display_name": "anaconda3-5.3.1",
   "language": "python",
   "name": "anaconda3-5.3.1"
  },
  "language_info": {
   "codemirror_mode": {
    "name": "ipython",
    "version": 3
   },
   "file_extension": ".py",
   "mimetype": "text/x-python",
   "name": "python",
   "nbconvert_exporter": "python",
   "pygments_lexer": "ipython3",
   "version": "3.7.3"
  }
 },
 "nbformat": 4,
 "nbformat_minor": 2
}
